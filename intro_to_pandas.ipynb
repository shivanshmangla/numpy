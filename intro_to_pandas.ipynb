{
  "cells": [
    {
      "cell_type": "markdown",
      "metadata": {
        "id": "view-in-github",
        "colab_type": "text"
      },
      "source": [
        "<a href=\"https://colab.research.google.com/github/shivanshmangla/numpy/blob/main/intro_to_pandas.ipynb\" target=\"_parent\"><img src=\"https://colab.research.google.com/assets/colab-badge.svg\" alt=\"Open In Colab\"/></a>"
      ]
    },
    {
      "cell_type": "markdown",
      "source": [
        "https://jovian.ml/aakashns/python-os-and-filesystem"
      ],
      "metadata": {
        "id": "OhnBbjFj7vl3"
      }
    },
    {
      "cell_type": "markdown",
      "source": [
        "## Interacting with the OS and filesystem\n",
        "\n",
        "The `os` module in Python provides many functions for interacting with the OS and the filesystem. Let's import it and try out some examples."
      ],
      "metadata": {
        "id": "3f_eYIzE0jPC"
      }
    },
    {
      "cell_type": "code",
      "source": [
        "import os\n",
        "import numpy as np\n",
        "\n",
        "\n",
        "# We can check the present working directory using the `os.getcwd` function.\n",
        "\n",
        "os.getcwd()"
      ],
      "metadata": {
        "id": "KkJtt04u0mZr",
        "outputId": "1286c221-579e-43c2-eded-3b94b944583e",
        "colab": {
          "base_uri": "https://localhost:8080/",
          "height": 36
        }
      },
      "execution_count": 54,
      "outputs": [
        {
          "output_type": "execute_result",
          "data": {
            "text/plain": [
              "'/content'"
            ],
            "application/vnd.google.colaboratory.intrinsic+json": {
              "type": "string"
            }
          },
          "metadata": {},
          "execution_count": 54
        }
      ]
    },
    {
      "cell_type": "code",
      "source": [
        "os.listdir('.') # relative path\n",
        "#shows hidden files"
      ],
      "metadata": {
        "id": "lZ20eHfS5zyw",
        "outputId": "2d9a090a-fc83-42f1-be33-bfda57cddb80",
        "colab": {
          "base_uri": "https://localhost:8080/"
        }
      },
      "execution_count": 55,
      "outputs": [
        {
          "output_type": "execute_result",
          "data": {
            "text/plain": [
              "['.config',\n",
              " 'climate.txt',\n",
              " 'drive',\n",
              " 'data',\n",
              " 'climate_results.txt',\n",
              " 'sample_data']"
            ]
          },
          "metadata": {},
          "execution_count": 55
        }
      ]
    },
    {
      "cell_type": "code",
      "source": [
        "# You can create a new directory using `os.makedirs`. Let's create a new directory called `data`, where we'll later download some files.\n",
        "\n",
        "os.makedirs('./data', exist_ok=True)\n",
        "\n",
        "#Let's verify that the directory was created and is currently empty.\n",
        "print('data' in os.listdir('.'))\n",
        "\n",
        "os.listdir('./data')  # empty as abhi kuchh nhi daala"
      ],
      "metadata": {
        "id": "2rvpWW9E6VQw",
        "outputId": "7d11dac7-3d7c-4382-9203-bbf064fef5c3",
        "colab": {
          "base_uri": "https://localhost:8080/"
        }
      },
      "execution_count": 56,
      "outputs": [
        {
          "output_type": "stream",
          "name": "stdout",
          "text": [
            "True\n"
          ]
        },
        {
          "output_type": "execute_result",
          "data": {
            "text/plain": [
              "['loans3.txt', 'loans2.txt', 'loans1.txt']"
            ]
          },
          "metadata": {},
          "execution_count": 56
        }
      ]
    },
    {
      "cell_type": "markdown",
      "source": [
        "###Let us download some files into the `data` directory using the `urllib` module."
      ],
      "metadata": {
        "id": "Hcs03Igf7H8v"
      }
    },
    {
      "cell_type": "code",
      "source": [
        "from urllib.request import urlretrieve\n",
        "url1 = 'https://gist.githubusercontent.com/aakashns/257f6e6c8719c17d0e498ea287d1a386/raw/7def9ef4234ddf0bc82f855ad67dac8b971852ef/loans1.txt'\n",
        "url2 = 'https://gist.githubusercontent.com/aakashns/257f6e6c8719c17d0e498ea287d1a386/raw/7def9ef4234ddf0bc82f855ad67dac8b971852ef/loans2.txt'\n",
        "url3 = 'https://gist.githubusercontent.com/aakashns/257f6e6c8719c17d0e498ea287d1a386/raw/7def9ef4234ddf0bc82f855ad67dac8b971852ef/loans3.txt'\n",
        "urlretrieve(url1, './data/loans1.txt')\n",
        "urlretrieve(url2, './data/loans2.txt')\n",
        "urlretrieve(url3, './data/loans3.txt')"
      ],
      "metadata": {
        "id": "4o-uKJpc7MOS",
        "outputId": "47292b24-58a7-4946-d4d9-ab033d08c951",
        "colab": {
          "base_uri": "https://localhost:8080/"
        }
      },
      "execution_count": 57,
      "outputs": [
        {
          "output_type": "execute_result",
          "data": {
            "text/plain": [
              "('./data/loans3.txt', <http.client.HTTPMessage at 0x7f7abfb7e250>)"
            ]
          },
          "metadata": {},
          "execution_count": 57
        }
      ]
    },
    {
      "cell_type": "code",
      "source": [
        "# Let's verify that the files were downloaded.\n",
        "os.listdir('./data')"
      ],
      "metadata": {
        "id": "HMGaWbVD7dgl",
        "outputId": "1d260c49-bafc-44be-b3ff-188711ecd121",
        "colab": {
          "base_uri": "https://localhost:8080/"
        }
      },
      "execution_count": 41,
      "outputs": [
        {
          "output_type": "execute_result",
          "data": {
            "text/plain": [
              "['loans3.txt', 'loans2.txt', 'loans1.txt']"
            ]
          },
          "metadata": {},
          "execution_count": 41
        }
      ]
    },
    {
      "cell_type": "code",
      "source": [
        "file1 = open('./data/loans1.txt',mode = 'r')\n",
        "file_contents = file1.read()\n",
        "print(file_contents)\n",
        "\n",
        "file1.close()"
      ],
      "metadata": {
        "id": "EXEyzymN70QN",
        "outputId": "c9395016-c001-4aa2-8b2e-6e12211025a5",
        "colab": {
          "base_uri": "https://localhost:8080/"
        }
      },
      "execution_count": 45,
      "outputs": [
        {
          "output_type": "stream",
          "name": "stdout",
          "text": [
            "amount,duration,rate,down_payment\n",
            "100000,36,0.08,20000\n",
            "200000,12,0.1,\n",
            "628400,120,0.12,100000\n",
            "4637400,240,0.06,\n",
            "42900,90,0.07,8900\n",
            "916000,16,0.13,\n",
            "45230,48,0.08,4300\n",
            "991360,99,0.08,\n",
            "423000,27,0.09,47200\n"
          ]
        }
      ]
    },
    {
      "cell_type": "code",
      "source": [
        "with open('./data/loans2.txt',mode='r') as file2:\n",
        "  file2_contents = file2.read()\n",
        "  print(file2_contents)"
      ],
      "metadata": {
        "id": "hyJQkqtY9Mu1",
        "outputId": "e95e6967-574b-43e4-e270-19b5c2a97dcc",
        "colab": {
          "base_uri": "https://localhost:8080/"
        }
      },
      "execution_count": 46,
      "outputs": [
        {
          "output_type": "stream",
          "name": "stdout",
          "text": [
            "amount,duration,rate,down_payment\n",
            "828400,120,0.11,100000\n",
            "4633400,240,0.06,\n",
            "42900,90,0.08,8900\n",
            "983000,16,0.14,\n",
            "15230,48,0.07,4300\n"
          ]
        }
      ]
    },
    {
      "cell_type": "code",
      "source": [
        "file2.read()"
      ],
      "metadata": {
        "id": "WaAcWKDa9xhb",
        "outputId": "16955858-7297-4e8c-c817-bf5e27e10c01",
        "colab": {
          "base_uri": "https://localhost:8080/",
          "height": 165
        }
      },
      "execution_count": 48,
      "outputs": [
        {
          "output_type": "error",
          "ename": "ValueError",
          "evalue": "ignored",
          "traceback": [
            "\u001b[0;31m---------------------------------------------------------------------------\u001b[0m",
            "\u001b[0;31mValueError\u001b[0m                                Traceback (most recent call last)",
            "\u001b[0;32m<ipython-input-48-4a9205324152>\u001b[0m in \u001b[0;36m<cell line: 1>\u001b[0;34m()\u001b[0m\n\u001b[0;32m----> 1\u001b[0;31m \u001b[0mfile2\u001b[0m\u001b[0;34m.\u001b[0m\u001b[0mread\u001b[0m\u001b[0;34m(\u001b[0m\u001b[0;34m)\u001b[0m\u001b[0;34m\u001b[0m\u001b[0;34m\u001b[0m\u001b[0m\n\u001b[0m",
            "\u001b[0;31mValueError\u001b[0m: I/O operation on closed file."
          ]
        }
      ]
    },
    {
      "cell_type": "code",
      "source": [
        "with open('./data/loans3.txt',mode='r') as file3:\n",
        "  file3_contents = file3.readlines()\n",
        "  print(file3_contents)"
      ],
      "metadata": {
        "id": "AbGo2zX6-FPy",
        "outputId": "1293e81e-8c3f-4f44-d589-8db5b08c5224",
        "colab": {
          "base_uri": "https://localhost:8080/"
        }
      },
      "execution_count": 50,
      "outputs": [
        {
          "output_type": "stream",
          "name": "stdout",
          "text": [
            "['amount,duration,rate,down_payment\\n', '45230,48,0.07,4300\\n', '883000,16,0.14,\\n', '100000,12,0.1,\\n', '728400,120,0.12,100000\\n', '3637400,240,0.06,\\n', '82900,90,0.07,8900\\n', '316000,16,0.13,\\n', '15230,48,0.08,4300\\n', '991360,99,0.08,\\n', '323000,27,0.09,4720010000,36,0.08,20000\\n', '528400,120,0.11,100000\\n', '8633400,240,0.06,\\n', '12900,90,0.08,8900']\n"
          ]
        }
      ]
    },
    {
      "cell_type": "code",
      "source": [
        "file3_contents[0].strip()   #removes the newline charecters"
      ],
      "metadata": {
        "id": "et3VIquq-kbG",
        "outputId": "8b3fc2c2-4e81-4b5c-af4e-121fd05dd51a",
        "colab": {
          "base_uri": "https://localhost:8080/",
          "height": 36
        }
      },
      "execution_count": 58,
      "outputs": [
        {
          "output_type": "execute_result",
          "data": {
            "text/plain": [
              "'amount,duration,rate,down_payment'"
            ],
            "application/vnd.google.colaboratory.intrinsic+json": {
              "type": "string"
            }
          },
          "metadata": {},
          "execution_count": 58
        }
      ]
    },
    {
      "cell_type": "code",
      "source": [
        "def parse_headers(header_line):\n",
        "  return header_line.strip().split(',')\n",
        "\n",
        "headers = parse_headers(file3_contents[0])\n",
        "\n",
        "print(headers)"
      ],
      "metadata": {
        "id": "MkBgHpp3EFQ1",
        "outputId": "b04029cd-3e67-4d61-d2d6-4c82ca3df17a",
        "colab": {
          "base_uri": "https://localhost:8080/"
        }
      },
      "execution_count": 69,
      "outputs": [
        {
          "output_type": "stream",
          "name": "stdout",
          "text": [
            "['amount', 'duration', 'rate', 'down_payment']\n"
          ]
        }
      ]
    },
    {
      "cell_type": "code",
      "source": [
        "def parse_values(data_line):\n",
        "  values = []\n",
        "  for item in data_line.strip().split(','):\n",
        "    values.append(float(item))\n",
        "  return values\n",
        "\n",
        "parse_values(file3_contents[2])"
      ],
      "metadata": {
        "id": "SNT2zOjXGbOq",
        "outputId": "cc3295f4-433c-4d46-f001-d8e5b561bbaf",
        "colab": {
          "base_uri": "https://localhost:8080/",
          "height": 321
        }
      },
      "execution_count": 62,
      "outputs": [
        {
          "output_type": "error",
          "ename": "ValueError",
          "evalue": "ignored",
          "traceback": [
            "\u001b[0;31m---------------------------------------------------------------------------\u001b[0m",
            "\u001b[0;31mValueError\u001b[0m                                Traceback (most recent call last)",
            "\u001b[0;32m<ipython-input-62-0b8285553cde>\u001b[0m in \u001b[0;36m<cell line: 7>\u001b[0;34m()\u001b[0m\n\u001b[1;32m      5\u001b[0m   \u001b[0;32mreturn\u001b[0m \u001b[0mvalues\u001b[0m\u001b[0;34m\u001b[0m\u001b[0;34m\u001b[0m\u001b[0m\n\u001b[1;32m      6\u001b[0m \u001b[0;34m\u001b[0m\u001b[0m\n\u001b[0;32m----> 7\u001b[0;31m \u001b[0mparse_values\u001b[0m\u001b[0;34m(\u001b[0m\u001b[0mfile3_contents\u001b[0m\u001b[0;34m[\u001b[0m\u001b[0;36m2\u001b[0m\u001b[0;34m]\u001b[0m\u001b[0;34m)\u001b[0m\u001b[0;34m\u001b[0m\u001b[0;34m\u001b[0m\u001b[0m\n\u001b[0m",
            "\u001b[0;32m<ipython-input-62-0b8285553cde>\u001b[0m in \u001b[0;36mparse_values\u001b[0;34m(data_line)\u001b[0m\n\u001b[1;32m      2\u001b[0m   \u001b[0mvalues\u001b[0m \u001b[0;34m=\u001b[0m \u001b[0;34m[\u001b[0m\u001b[0;34m]\u001b[0m\u001b[0;34m\u001b[0m\u001b[0;34m\u001b[0m\u001b[0m\n\u001b[1;32m      3\u001b[0m   \u001b[0;32mfor\u001b[0m \u001b[0mitem\u001b[0m \u001b[0;32min\u001b[0m \u001b[0mdata_line\u001b[0m\u001b[0;34m.\u001b[0m\u001b[0mstrip\u001b[0m\u001b[0;34m(\u001b[0m\u001b[0;34m)\u001b[0m\u001b[0;34m.\u001b[0m\u001b[0msplit\u001b[0m\u001b[0;34m(\u001b[0m\u001b[0;34m','\u001b[0m\u001b[0;34m)\u001b[0m\u001b[0;34m:\u001b[0m\u001b[0;34m\u001b[0m\u001b[0;34m\u001b[0m\u001b[0m\n\u001b[0;32m----> 4\u001b[0;31m     \u001b[0mvalues\u001b[0m\u001b[0;34m.\u001b[0m\u001b[0mappend\u001b[0m\u001b[0;34m(\u001b[0m\u001b[0mfloat\u001b[0m\u001b[0;34m(\u001b[0m\u001b[0mitem\u001b[0m\u001b[0;34m)\u001b[0m\u001b[0;34m)\u001b[0m\u001b[0;34m\u001b[0m\u001b[0;34m\u001b[0m\u001b[0m\n\u001b[0m\u001b[1;32m      5\u001b[0m   \u001b[0;32mreturn\u001b[0m \u001b[0mvalues\u001b[0m\u001b[0;34m\u001b[0m\u001b[0;34m\u001b[0m\u001b[0m\n\u001b[1;32m      6\u001b[0m \u001b[0;34m\u001b[0m\u001b[0m\n",
            "\u001b[0;31mValueError\u001b[0m: could not convert string to float: ''"
          ]
        }
      ]
    },
    {
      "cell_type": "code",
      "source": [
        "def parse_values(data_line):\n",
        "  values=[]\n",
        "  for item in data_line.strip().split(','):\n",
        "    if item == '':\n",
        "      values.append(0.0)\n",
        "    else:\n",
        "      values.append(float(item))\n",
        "  return values\n",
        "\n",
        "print(parse_values(file3_contents[2]))"
      ],
      "metadata": {
        "id": "IPmt3gh0Hrpt",
        "outputId": "6f74bd68-af0a-4a69-f4be-e83fe7214df8",
        "colab": {
          "base_uri": "https://localhost:8080/"
        }
      },
      "execution_count": 110,
      "outputs": [
        {
          "output_type": "stream",
          "name": "stdout",
          "text": [
            "[883000.0, 16.0, 0.14, 0.0]\n"
          ]
        }
      ]
    },
    {
      "cell_type": "code",
      "source": [
        "def create_item_dict(values , headers):\n",
        "  result = {}\n",
        "  for value,header in zip(values,headers):\n",
        "    result[header]=value\n",
        "  return result\n",
        "\n",
        "values1 = parse_values(file3_contents[1])\n",
        "\n",
        "print(create_item_dict(values1,headers))\n",
        "\n",
        "values2 = parse_values(file3_contents[2])\n",
        "\n",
        "print(create_item_dict(values2,headers))"
      ],
      "metadata": {
        "id": "fMIkJyw0JJbY",
        "outputId": "534a80dd-7bf2-4d4e-f793-e64402d37b8b",
        "colab": {
          "base_uri": "https://localhost:8080/"
        }
      },
      "execution_count": 111,
      "outputs": [
        {
          "output_type": "stream",
          "name": "stdout",
          "text": [
            "{'amount': 45230.0, 'duration': 48.0, 'rate': 0.07, 'down_payment': 4300.0}\n",
            "{'amount': 883000.0, 'duration': 16.0, 'rate': 0.14, 'down_payment': 0.0}\n"
          ]
        }
      ]
    },
    {
      "cell_type": "code",
      "source": [
        "def read_csv(path):\n",
        "  result = []\n",
        "  with open(path,mode='r') as f:\n",
        "    f_contents = f.readlines()\n",
        "    header = parse_headers(f_contents[0])\n",
        "    for data_line in f_contents[1:]:\n",
        "      value = parse_values(data_line)\n",
        "      item_dict = create_item_dict(value,header)\n",
        "      result.append(item_dict)\n",
        "  return result"
      ],
      "metadata": {
        "id": "Yk4Doyz5MZHq"
      },
      "execution_count": 77,
      "outputs": []
    },
    {
      "cell_type": "code",
      "source": [
        "read_csv('./data/loans2.txt')"
      ],
      "metadata": {
        "id": "b9idbGWxOGmR",
        "outputId": "92b27100-8935-4d9a-fccf-60c1206dff40",
        "colab": {
          "base_uri": "https://localhost:8080/"
        }
      },
      "execution_count": 78,
      "outputs": [
        {
          "output_type": "execute_result",
          "data": {
            "text/plain": [
              "[{'amount': 828400.0,\n",
              "  'duration': 120.0,\n",
              "  'rate': 0.11,\n",
              "  'down_payment': 100000.0},\n",
              " {'amount': 4633400.0, 'duration': 240.0, 'rate': 0.06, 'down_payment': 0.0},\n",
              " {'amount': 42900.0, 'duration': 90.0, 'rate': 0.08, 'down_payment': 8900.0},\n",
              " {'amount': 983000.0, 'duration': 16.0, 'rate': 0.14, 'down_payment': 0.0},\n",
              " {'amount': 15230.0, 'duration': 48.0, 'rate': 0.07, 'down_payment': 4300.0}]"
            ]
          },
          "metadata": {},
          "execution_count": 78
        }
      ]
    },
    {
      "cell_type": "code",
      "source": [
        "import math\n",
        "\n",
        "def loan_emi(amount, duration, rate, down_payment=0):\n",
        "    \"\"\"Calculates the equal montly installment (EMI) for a loan.\n",
        "    \n",
        "    Arguments:\n",
        "        amount - Total amount to be spent (loan + down payment)\n",
        "        duration - Duration of the loan (in months)\n",
        "        rate - Rate of interest (monthly)\n",
        "        down_payment (optional) - Optional intial payment (deducted from amount)\n",
        "    \"\"\"\n",
        "    loan_amount = amount - down_payment\n",
        "    try:\n",
        "        emi = loan_amount * rate * ((1+rate)**duration) / (((1+rate)**duration)-1)\n",
        "    except ZeroDivisionError:\n",
        "        emi = loan_amount / duration\n",
        "    emi = math.ceil(emi)\n",
        "    return emi"
      ],
      "metadata": {
        "id": "R2eRBtW5Pvge"
      },
      "execution_count": 99,
      "outputs": []
    },
    {
      "cell_type": "code",
      "source": [
        "loans2 = read_csv('./data/loans2.txt')\n",
        "(loans2)\n",
        "\n",
        "# for loan in loans2:\n",
        "#     loan['emi'] = loan_emi(loan['amount'], \n",
        "#                            loan['duration'], \n",
        "#                            loan['rate']/12, # the CSV contains yearly rates\n",
        "#                            loan['down_payment'])"
      ],
      "metadata": {
        "id": "P1Iy9nh6QP9S",
        "outputId": "932f15c4-a622-444a-fa26-7f084a56d641",
        "colab": {
          "base_uri": "https://localhost:8080/"
        }
      },
      "execution_count": 107,
      "outputs": [
        {
          "output_type": "execute_result",
          "data": {
            "text/plain": [
              "[{'828400.0': 4633400.0,\n",
              "  '120.0': 240.0,\n",
              "  '0.11': 0.06,\n",
              "  '100000.0': 0.0,\n",
              "  '10034': 33196.0},\n",
              " {'828400.0': 42900.0,\n",
              "  '120.0': 90.0,\n",
              "  '0.11': 0.08,\n",
              "  '100000.0': 8900.0,\n",
              "  '10034': 504.0},\n",
              " {'828400.0': 983000.0,\n",
              "  '120.0': 16.0,\n",
              "  '0.11': 0.14,\n",
              "  '100000.0': 0.0,\n",
              "  '10034': 67707.0},\n",
              " {'828400.0': 15230.0,\n",
              "  '120.0': 48.0,\n",
              "  '0.11': 0.07,\n",
              "  '100000.0': 4300.0,\n",
              "  '10034': 262.0}]"
            ]
          },
          "metadata": {},
          "execution_count": 106
        },
        {
          "output_type": "execute_result",
          "data": {
            "text/plain": [
              "[{'828400.0': 4633400.0,\n",
              "  '120.0': 240.0,\n",
              "  '0.11': 0.06,\n",
              "  '100000.0': 0.0,\n",
              "  '10034': 33196.0},\n",
              " {'828400.0': 42900.0,\n",
              "  '120.0': 90.0,\n",
              "  '0.11': 0.08,\n",
              "  '100000.0': 8900.0,\n",
              "  '10034': 504.0},\n",
              " {'828400.0': 983000.0,\n",
              "  '120.0': 16.0,\n",
              "  '0.11': 0.14,\n",
              "  '100000.0': 0.0,\n",
              "  '10034': 67707.0},\n",
              " {'828400.0': 15230.0,\n",
              "  '120.0': 48.0,\n",
              "  '0.11': 0.07,\n",
              "  '100000.0': 4300.0,\n",
              "  '10034': 262.0}]"
            ]
          },
          "metadata": {},
          "execution_count": 107
        },
        {
          "output_type": "execute_result",
          "data": {
            "text/plain": [
              "[{'828400.0': 4633400.0,\n",
              "  '120.0': 240.0,\n",
              "  '0.11': 0.06,\n",
              "  '100000.0': 0.0,\n",
              "  '10034': 33196.0},\n",
              " {'828400.0': 42900.0,\n",
              "  '120.0': 90.0,\n",
              "  '0.11': 0.08,\n",
              "  '100000.0': 8900.0,\n",
              "  '10034': 504.0},\n",
              " {'828400.0': 983000.0,\n",
              "  '120.0': 16.0,\n",
              "  '0.11': 0.14,\n",
              "  '100000.0': 0.0,\n",
              "  '10034': 67707.0},\n",
              " {'828400.0': 15230.0,\n",
              "  '120.0': 48.0,\n",
              "  '0.11': 0.07,\n",
              "  '100000.0': 4300.0,\n",
              "  '10034': 262.0}]"
            ]
          },
          "metadata": {},
          "execution_count": 108
        },
        {
          "output_type": "execute_result",
          "data": {
            "text/plain": [
              "[{'828400.0': 4633400.0,\n",
              "  '120.0': 240.0,\n",
              "  '0.11': 0.06,\n",
              "  '100000.0': 0.0,\n",
              "  '10034': 33196.0},\n",
              " {'828400.0': 42900.0,\n",
              "  '120.0': 90.0,\n",
              "  '0.11': 0.08,\n",
              "  '100000.0': 8900.0,\n",
              "  '10034': 504.0},\n",
              " {'828400.0': 983000.0,\n",
              "  '120.0': 16.0,\n",
              "  '0.11': 0.14,\n",
              "  '100000.0': 0.0,\n",
              "  '10034': 67707.0},\n",
              " {'828400.0': 15230.0,\n",
              "  '120.0': 48.0,\n",
              "  '0.11': 0.07,\n",
              "  '100000.0': 4300.0,\n",
              "  '10034': 262.0}]"
            ]
          },
          "metadata": {},
          "execution_count": 109
        }
      ]
    },
    {
      "cell_type": "code",
      "source": [
        "def compute_emis(loans):\n",
        "  for loan in loans:\n",
        "    loan['emi'] = loan_emi(loan['amount'],\n",
        "                         loan['duration'],\n",
        "                         loan['rate']/12,\n",
        "                         loan['down_payment'])"
      ],
      "metadata": {
        "id": "xIWfDwApRXVa"
      },
      "execution_count": 97,
      "outputs": []
    },
    {
      "cell_type": "markdown",
      "source": [
        "## Writing to files\n",
        "\n",
        "Now that we have performed some processing on the data, it would be good to write the results back to a CSV file. We can create/open a file in `w` mode using `open` and write to it using the `.write` method. The string `format` method will come in handy here."
      ],
      "metadata": {
        "id": "2IsnRLT6TD_5"
      }
    },
    {
      "cell_type": "code",
      "source": [
        "loans2 = read_csv('./data/loans2.txt')\n",
        "\n",
        "compute_emis(loans2)\n",
        "\n",
        "with open('./data/loans2.txt',mode = 'w') as f:\n",
        "  for loan in loans2:\n",
        "    f.write('{},{},{},{},{}\\n'.format(\n",
        "        loan['amount'],\n",
        "        loan['duration'],\n",
        "        loan['rate'],\n",
        "        loan['down_payment'],\n",
        "        loan['emi']\n",
        "    ))"
      ],
      "metadata": {
        "id": "prsqLz0lTFE-",
        "outputId": "61fa6468-38a0-448a-bd60-011ce192b12b",
        "colab": {
          "base_uri": "https://localhost:8080/",
          "height": 356
        }
      },
      "execution_count": 98,
      "outputs": [
        {
          "output_type": "error",
          "ename": "KeyError",
          "evalue": "ignored",
          "traceback": [
            "\u001b[0;31m---------------------------------------------------------------------------\u001b[0m",
            "\u001b[0;31mKeyError\u001b[0m                                  Traceback (most recent call last)",
            "\u001b[0;32m<ipython-input-98-442ded3c1e2c>\u001b[0m in \u001b[0;36m<cell line: 3>\u001b[0;34m()\u001b[0m\n\u001b[1;32m      1\u001b[0m \u001b[0mloans2\u001b[0m \u001b[0;34m=\u001b[0m \u001b[0mread_csv\u001b[0m\u001b[0;34m(\u001b[0m\u001b[0;34m'./data/loans2.txt'\u001b[0m\u001b[0;34m)\u001b[0m\u001b[0;34m\u001b[0m\u001b[0;34m\u001b[0m\u001b[0m\n\u001b[1;32m      2\u001b[0m \u001b[0;34m\u001b[0m\u001b[0m\n\u001b[0;32m----> 3\u001b[0;31m \u001b[0mcompute_emis\u001b[0m\u001b[0;34m(\u001b[0m\u001b[0mloans2\u001b[0m\u001b[0;34m)\u001b[0m\u001b[0;34m\u001b[0m\u001b[0;34m\u001b[0m\u001b[0m\n\u001b[0m\u001b[1;32m      4\u001b[0m \u001b[0;34m\u001b[0m\u001b[0m\n\u001b[1;32m      5\u001b[0m \u001b[0;32mwith\u001b[0m \u001b[0mopen\u001b[0m\u001b[0;34m(\u001b[0m\u001b[0;34m'./data/loans2.txt'\u001b[0m\u001b[0;34m,\u001b[0m\u001b[0mmode\u001b[0m \u001b[0;34m=\u001b[0m \u001b[0;34m'w'\u001b[0m\u001b[0;34m)\u001b[0m \u001b[0;32mas\u001b[0m \u001b[0mf\u001b[0m\u001b[0;34m:\u001b[0m\u001b[0;34m\u001b[0m\u001b[0;34m\u001b[0m\u001b[0m\n",
            "\u001b[0;32m<ipython-input-97-11788b0b50b6>\u001b[0m in \u001b[0;36mcompute_emis\u001b[0;34m(loans)\u001b[0m\n\u001b[1;32m      1\u001b[0m \u001b[0;32mdef\u001b[0m \u001b[0mcompute_emis\u001b[0m\u001b[0;34m(\u001b[0m\u001b[0mloans\u001b[0m\u001b[0;34m)\u001b[0m\u001b[0;34m:\u001b[0m\u001b[0;34m\u001b[0m\u001b[0;34m\u001b[0m\u001b[0m\n\u001b[1;32m      2\u001b[0m   \u001b[0;32mfor\u001b[0m \u001b[0mloan\u001b[0m \u001b[0;32min\u001b[0m \u001b[0mloans\u001b[0m\u001b[0;34m:\u001b[0m\u001b[0;34m\u001b[0m\u001b[0;34m\u001b[0m\u001b[0m\n\u001b[0;32m----> 3\u001b[0;31m     loan['emi'] = loan_emi(loan['amount'],\n\u001b[0m\u001b[1;32m      4\u001b[0m                          \u001b[0mloan\u001b[0m\u001b[0;34m[\u001b[0m\u001b[0;34m'duration'\u001b[0m\u001b[0;34m]\u001b[0m\u001b[0;34m,\u001b[0m\u001b[0;34m\u001b[0m\u001b[0;34m\u001b[0m\u001b[0m\n\u001b[1;32m      5\u001b[0m                          \u001b[0mloan\u001b[0m\u001b[0;34m[\u001b[0m\u001b[0;34m'rate'\u001b[0m\u001b[0;34m]\u001b[0m\u001b[0;34m/\u001b[0m\u001b[0;36m12\u001b[0m\u001b[0;34m,\u001b[0m\u001b[0;34m\u001b[0m\u001b[0;34m\u001b[0m\u001b[0m\n",
            "\u001b[0;31mKeyError\u001b[0m: 'amount'"
          ]
        }
      ]
    },
    {
      "cell_type": "code",
      "source": [
        "def write_csv(item,path):\n",
        "  with open(path , mode = 'w') as f:\n",
        "    if len(items)==0:\n",
        "      return\n",
        "    \n",
        "    headers = list(items[0].keys())\n",
        "    f.write(','.join(headers) + '\\n')\n",
        "\n",
        "    for item in items:\n",
        "      values = []\n",
        "      for header in headers:\n",
        "        values.append(str(item.get(header,\"\")))\n",
        "      f.write(','.join(values) + \"\\n\")\n"
      ],
      "metadata": {
        "id": "RB3mPaVSVQEu"
      },
      "execution_count": 86,
      "outputs": []
    },
    {
      "cell_type": "code",
      "source": [
        "loans3= read_csv('./data/loans3.txt')\n",
        "print(loans3)\n",
        "\n",
        "print(compute_emis(loans3))"
      ],
      "metadata": {
        "id": "jgvvPQ32h95V",
        "outputId": "1f7f37d6-5f93-46ba-9674-bee8ca35ef89",
        "colab": {
          "base_uri": "https://localhost:8080/"
        }
      },
      "execution_count": 90,
      "outputs": [
        {
          "output_type": "stream",
          "name": "stdout",
          "text": [
            "[{'amount': 45230.0, 'duration': 48.0, 'rate': 0.07, 'down_payment': 4300.0}, {'amount': 883000.0, 'duration': 16.0, 'rate': 0.14, 'down_payment': 0.0}, {'amount': 100000.0, 'duration': 12.0, 'rate': 0.1, 'down_payment': 0.0}, {'amount': 728400.0, 'duration': 120.0, 'rate': 0.12, 'down_payment': 100000.0}, {'amount': 3637400.0, 'duration': 240.0, 'rate': 0.06, 'down_payment': 0.0}, {'amount': 82900.0, 'duration': 90.0, 'rate': 0.07, 'down_payment': 8900.0}, {'amount': 316000.0, 'duration': 16.0, 'rate': 0.13, 'down_payment': 0.0}, {'amount': 15230.0, 'duration': 48.0, 'rate': 0.08, 'down_payment': 4300.0}, {'amount': 991360.0, 'duration': 99.0, 'rate': 0.08, 'down_payment': 0.0}, {'amount': 323000.0, 'duration': 27.0, 'rate': 0.09, 'down_payment': 4720010000.0}, {'amount': 528400.0, 'duration': 120.0, 'rate': 0.11, 'down_payment': 100000.0}, {'amount': 8633400.0, 'duration': 240.0, 'rate': 0.06, 'down_payment': 0.0}, {'amount': 12900.0, 'duration': 90.0, 'rate': 0.08, 'down_payment': 8900.0}]\n",
            "None\n"
          ]
        }
      ]
    }
  ],
  "metadata": {
    "colab": {
      "name": "Welcome To Colaboratory",
      "toc_visible": true,
      "provenance": [],
      "include_colab_link": true
    },
    "kernelspec": {
      "display_name": "Python 3",
      "name": "python3"
    }
  },
  "nbformat": 4,
  "nbformat_minor": 0
}