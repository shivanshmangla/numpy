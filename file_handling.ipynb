{
  "cells": [
    {
      "cell_type": "markdown",
      "metadata": {
        "id": "view-in-github",
        "colab_type": "text"
      },
      "source": [
        "<a href=\"https://colab.research.google.com/github/shivanshmangla/numpy/blob/main/file_handling.ipynb\" target=\"_parent\"><img src=\"https://colab.research.google.com/assets/colab-badge.svg\" alt=\"Open In Colab\"/></a>"
      ]
    },
    {
      "cell_type": "markdown",
      "source": [
        "https://jovian.ml/aakashns/python-os-and-filesystem"
      ],
      "metadata": {
        "id": "OhnBbjFj7vl3"
      }
    },
    {
      "cell_type": "markdown",
      "source": [
        "## Interacting with the OS and filesystem\n",
        "\n",
        "The `os` module in Python provides many functions for interacting with the OS and the filesystem. Let's import it and try out some examples."
      ],
      "metadata": {
        "id": "3f_eYIzE0jPC"
      }
    },
    {
      "cell_type": "code",
      "source": [
        "import os\n",
        "import numpy as np\n",
        "\n",
        "\n",
        "# We can check the present working directory using the `os.getcwd` function.\n",
        "\n",
        "os.getcwd()"
      ],
      "metadata": {
        "colab": {
          "base_uri": "https://localhost:8080/",
          "height": 36
        },
        "id": "KkJtt04u0mZr",
        "outputId": "1286c221-579e-43c2-eded-3b94b944583e"
      },
      "execution_count": 54,
      "outputs": [
        {
          "output_type": "execute_result",
          "data": {
            "text/plain": [
              "'/content'"
            ],
            "application/vnd.google.colaboratory.intrinsic+json": {
              "type": "string"
            }
          },
          "metadata": {},
          "execution_count": 54
        }
      ]
    },
    {
      "cell_type": "code",
      "source": [
        "os.listdir('.') # relative path\n",
        "#shows hidden files"
      ],
      "metadata": {
        "colab": {
          "base_uri": "https://localhost:8080/"
        },
        "id": "lZ20eHfS5zyw",
        "outputId": "2d9a090a-fc83-42f1-be33-bfda57cddb80"
      },
      "execution_count": 55,
      "outputs": [
        {
          "output_type": "execute_result",
          "data": {
            "text/plain": [
              "['.config',\n",
              " 'climate.txt',\n",
              " 'drive',\n",
              " 'data',\n",
              " 'climate_results.txt',\n",
              " 'sample_data']"
            ]
          },
          "metadata": {},
          "execution_count": 55
        }
      ]
    },
    {
      "cell_type": "code",
      "source": [
        "# You can create a new directory using `os.makedirs`. Let's create a new directory called `data`, where we'll later download some files.\n",
        "\n",
        "os.makedirs('./data', exist_ok=True)\n",
        "\n",
        "#Let's verify that the directory was created and is currently empty.\n",
        "print('data' in os.listdir('.'))\n",
        "\n",
        "os.listdir('./data')  # empty as abhi kuchh nhi daala"
      ],
      "metadata": {
        "colab": {
          "base_uri": "https://localhost:8080/"
        },
        "id": "2rvpWW9E6VQw",
        "outputId": "7d11dac7-3d7c-4382-9203-bbf064fef5c3"
      },
      "execution_count": 56,
      "outputs": [
        {
          "output_type": "stream",
          "name": "stdout",
          "text": [
            "True\n"
          ]
        },
        {
          "output_type": "execute_result",
          "data": {
            "text/plain": [
              "['loans3.txt', 'loans2.txt', 'loans1.txt']"
            ]
          },
          "metadata": {},
          "execution_count": 56
        }
      ]
    },
    {
      "cell_type": "markdown",
      "source": [
        "###Let us download some files into the `data` directory using the `urllib` module."
      ],
      "metadata": {
        "id": "Hcs03Igf7H8v"
      }
    },
    {
      "cell_type": "code",
      "source": [
        "from urllib.request import urlretrieve\n",
        "url1 = 'https://gist.githubusercontent.com/aakashns/257f6e6c8719c17d0e498ea287d1a386/raw/7def9ef4234ddf0bc82f855ad67dac8b971852ef/loans1.txt'\n",
        "url2 = 'https://gist.githubusercontent.com/aakashns/257f6e6c8719c17d0e498ea287d1a386/raw/7def9ef4234ddf0bc82f855ad67dac8b971852ef/loans2.txt'\n",
        "url3 = 'https://gist.githubusercontent.com/aakashns/257f6e6c8719c17d0e498ea287d1a386/raw/7def9ef4234ddf0bc82f855ad67dac8b971852ef/loans3.txt'\n",
        "urlretrieve(url1, './data/loans1.txt')\n",
        "urlretrieve(url2, './data/loans2.txt')\n",
        "urlretrieve(url3, './data/loans3.txt')"
      ],
      "metadata": {
        "colab": {
          "base_uri": "https://localhost:8080/"
        },
        "id": "4o-uKJpc7MOS",
        "outputId": "e00446a3-38c9-40cf-8b31-9d523fc67f4c"
      },
      "execution_count": 118,
      "outputs": [
        {
          "output_type": "execute_result",
          "data": {
            "text/plain": [
              "('./data/loans3.txt', <http.client.HTTPMessage at 0x7f7abfb7ea00>)"
            ]
          },
          "metadata": {},
          "execution_count": 118
        }
      ]
    },
    {
      "cell_type": "code",
      "source": [
        "# Let's verify that the files were downloaded.\n",
        "os.listdir('./data')"
      ],
      "metadata": {
        "colab": {
          "base_uri": "https://localhost:8080/"
        },
        "id": "HMGaWbVD7dgl",
        "outputId": "1d260c49-bafc-44be-b3ff-188711ecd121"
      },
      "execution_count": 41,
      "outputs": [
        {
          "output_type": "execute_result",
          "data": {
            "text/plain": [
              "['loans3.txt', 'loans2.txt', 'loans1.txt']"
            ]
          },
          "metadata": {},
          "execution_count": 41
        }
      ]
    },
    {
      "cell_type": "code",
      "source": [
        "file1 = open('./data/loans1.txt',mode = 'r')\n",
        "file_contents = file1.read()\n",
        "print(file_contents)\n",
        "\n",
        "file1.close()"
      ],
      "metadata": {
        "colab": {
          "base_uri": "https://localhost:8080/"
        },
        "id": "EXEyzymN70QN",
        "outputId": "a3c554e8-f767-4850-af12-ae9fb603dfb2"
      },
      "execution_count": 119,
      "outputs": [
        {
          "output_type": "stream",
          "name": "stdout",
          "text": [
            "amount,duration,rate,down_payment\n",
            "100000,36,0.08,20000\n",
            "200000,12,0.1,\n",
            "628400,120,0.12,100000\n",
            "4637400,240,0.06,\n",
            "42900,90,0.07,8900\n",
            "916000,16,0.13,\n",
            "45230,48,0.08,4300\n",
            "991360,99,0.08,\n",
            "423000,27,0.09,47200\n"
          ]
        }
      ]
    },
    {
      "cell_type": "code",
      "source": [
        "with open('./data/loans2.txt',mode='r') as file2:\n",
        "  file2_contents = file2.read()\n",
        "  print(file2_contents)"
      ],
      "metadata": {
        "colab": {
          "base_uri": "https://localhost:8080/"
        },
        "id": "hyJQkqtY9Mu1",
        "outputId": "8e597e5c-9abd-4bf8-c6e1-7f76a7362a7b"
      },
      "execution_count": 120,
      "outputs": [
        {
          "output_type": "stream",
          "name": "stdout",
          "text": [
            "amount,duration,rate,down_payment\n",
            "828400,120,0.11,100000\n",
            "4633400,240,0.06,\n",
            "42900,90,0.08,8900\n",
            "983000,16,0.14,\n",
            "15230,48,0.07,4300\n"
          ]
        }
      ]
    },
    {
      "cell_type": "code",
      "source": [
        "file2.read()"
      ],
      "metadata": {
        "colab": {
          "base_uri": "https://localhost:8080/",
          "height": 165
        },
        "id": "WaAcWKDa9xhb",
        "outputId": "16955858-7297-4e8c-c817-bf5e27e10c01"
      },
      "execution_count": 48,
      "outputs": [
        {
          "output_type": "error",
          "ename": "ValueError",
          "evalue": "ignored",
          "traceback": [
            "\u001b[0;31m---------------------------------------------------------------------------\u001b[0m",
            "\u001b[0;31mValueError\u001b[0m                                Traceback (most recent call last)",
            "\u001b[0;32m<ipython-input-48-4a9205324152>\u001b[0m in \u001b[0;36m<cell line: 1>\u001b[0;34m()\u001b[0m\n\u001b[0;32m----> 1\u001b[0;31m \u001b[0mfile2\u001b[0m\u001b[0;34m.\u001b[0m\u001b[0mread\u001b[0m\u001b[0;34m(\u001b[0m\u001b[0;34m)\u001b[0m\u001b[0;34m\u001b[0m\u001b[0;34m\u001b[0m\u001b[0m\n\u001b[0m",
            "\u001b[0;31mValueError\u001b[0m: I/O operation on closed file."
          ]
        }
      ]
    },
    {
      "cell_type": "code",
      "source": [
        "with open('./data/loans3.txt',mode='r') as file3:\n",
        "  file3_contents = file3.readlines()\n",
        "  print(file3_contents)"
      ],
      "metadata": {
        "colab": {
          "base_uri": "https://localhost:8080/"
        },
        "id": "AbGo2zX6-FPy",
        "outputId": "52f93f69-8777-4bbc-a44b-925b6eddd8b5"
      },
      "execution_count": 121,
      "outputs": [
        {
          "output_type": "stream",
          "name": "stdout",
          "text": [
            "['amount,duration,rate,down_payment\\n', '45230,48,0.07,4300\\n', '883000,16,0.14,\\n', '100000,12,0.1,\\n', '728400,120,0.12,100000\\n', '3637400,240,0.06,\\n', '82900,90,0.07,8900\\n', '316000,16,0.13,\\n', '15230,48,0.08,4300\\n', '991360,99,0.08,\\n', '323000,27,0.09,4720010000,36,0.08,20000\\n', '528400,120,0.11,100000\\n', '8633400,240,0.06,\\n', '12900,90,0.08,8900']\n"
          ]
        }
      ]
    },
    {
      "cell_type": "code",
      "source": [
        "file3_contents[0].strip()   #removes the newline charecters"
      ],
      "metadata": {
        "colab": {
          "base_uri": "https://localhost:8080/",
          "height": 36
        },
        "id": "et3VIquq-kbG",
        "outputId": "8b3fc2c2-4e81-4b5c-af4e-121fd05dd51a"
      },
      "execution_count": 58,
      "outputs": [
        {
          "output_type": "execute_result",
          "data": {
            "text/plain": [
              "'amount,duration,rate,down_payment'"
            ],
            "application/vnd.google.colaboratory.intrinsic+json": {
              "type": "string"
            }
          },
          "metadata": {},
          "execution_count": 58
        }
      ]
    },
    {
      "cell_type": "code",
      "source": [
        "def parse_headers(header_line):\n",
        "  return header_line.strip().split(',')\n",
        "\n",
        "headers = parse_headers(file3_contents[0])\n",
        "\n",
        "print(headers)"
      ],
      "metadata": {
        "colab": {
          "base_uri": "https://localhost:8080/"
        },
        "id": "MkBgHpp3EFQ1",
        "outputId": "7033ea9e-8562-40e0-ebad-0b75981bbf20"
      },
      "execution_count": 122,
      "outputs": [
        {
          "output_type": "stream",
          "name": "stdout",
          "text": [
            "['amount', 'duration', 'rate', 'down_payment']\n"
          ]
        }
      ]
    },
    {
      "cell_type": "code",
      "source": [
        "def parse_values(data_line):\n",
        "  values = []\n",
        "  for item in data_line.strip().split(','):\n",
        "    values.append(float(item))\n",
        "  return values\n",
        "\n",
        "parse_values(file3_contents[2])"
      ],
      "metadata": {
        "colab": {
          "base_uri": "https://localhost:8080/",
          "height": 321
        },
        "id": "SNT2zOjXGbOq",
        "outputId": "cc3295f4-433c-4d46-f001-d8e5b561bbaf"
      },
      "execution_count": 62,
      "outputs": [
        {
          "output_type": "error",
          "ename": "ValueError",
          "evalue": "ignored",
          "traceback": [
            "\u001b[0;31m---------------------------------------------------------------------------\u001b[0m",
            "\u001b[0;31mValueError\u001b[0m                                Traceback (most recent call last)",
            "\u001b[0;32m<ipython-input-62-0b8285553cde>\u001b[0m in \u001b[0;36m<cell line: 7>\u001b[0;34m()\u001b[0m\n\u001b[1;32m      5\u001b[0m   \u001b[0;32mreturn\u001b[0m \u001b[0mvalues\u001b[0m\u001b[0;34m\u001b[0m\u001b[0;34m\u001b[0m\u001b[0m\n\u001b[1;32m      6\u001b[0m \u001b[0;34m\u001b[0m\u001b[0m\n\u001b[0;32m----> 7\u001b[0;31m \u001b[0mparse_values\u001b[0m\u001b[0;34m(\u001b[0m\u001b[0mfile3_contents\u001b[0m\u001b[0;34m[\u001b[0m\u001b[0;36m2\u001b[0m\u001b[0;34m]\u001b[0m\u001b[0;34m)\u001b[0m\u001b[0;34m\u001b[0m\u001b[0;34m\u001b[0m\u001b[0m\n\u001b[0m",
            "\u001b[0;32m<ipython-input-62-0b8285553cde>\u001b[0m in \u001b[0;36mparse_values\u001b[0;34m(data_line)\u001b[0m\n\u001b[1;32m      2\u001b[0m   \u001b[0mvalues\u001b[0m \u001b[0;34m=\u001b[0m \u001b[0;34m[\u001b[0m\u001b[0;34m]\u001b[0m\u001b[0;34m\u001b[0m\u001b[0;34m\u001b[0m\u001b[0m\n\u001b[1;32m      3\u001b[0m   \u001b[0;32mfor\u001b[0m \u001b[0mitem\u001b[0m \u001b[0;32min\u001b[0m \u001b[0mdata_line\u001b[0m\u001b[0;34m.\u001b[0m\u001b[0mstrip\u001b[0m\u001b[0;34m(\u001b[0m\u001b[0;34m)\u001b[0m\u001b[0;34m.\u001b[0m\u001b[0msplit\u001b[0m\u001b[0;34m(\u001b[0m\u001b[0;34m','\u001b[0m\u001b[0;34m)\u001b[0m\u001b[0;34m:\u001b[0m\u001b[0;34m\u001b[0m\u001b[0;34m\u001b[0m\u001b[0m\n\u001b[0;32m----> 4\u001b[0;31m     \u001b[0mvalues\u001b[0m\u001b[0;34m.\u001b[0m\u001b[0mappend\u001b[0m\u001b[0;34m(\u001b[0m\u001b[0mfloat\u001b[0m\u001b[0;34m(\u001b[0m\u001b[0mitem\u001b[0m\u001b[0;34m)\u001b[0m\u001b[0;34m)\u001b[0m\u001b[0;34m\u001b[0m\u001b[0;34m\u001b[0m\u001b[0m\n\u001b[0m\u001b[1;32m      5\u001b[0m   \u001b[0;32mreturn\u001b[0m \u001b[0mvalues\u001b[0m\u001b[0;34m\u001b[0m\u001b[0;34m\u001b[0m\u001b[0m\n\u001b[1;32m      6\u001b[0m \u001b[0;34m\u001b[0m\u001b[0m\n",
            "\u001b[0;31mValueError\u001b[0m: could not convert string to float: ''"
          ]
        }
      ]
    },
    {
      "cell_type": "code",
      "source": [
        "def parse_values(data_line):\n",
        "  values=[]\n",
        "  for item in data_line.strip().split(','):\n",
        "    if item == '':\n",
        "      values.append(0.0)\n",
        "    else:\n",
        "      values.append(float(item))\n",
        "  return values\n",
        "\n",
        "print(parse_values(file3_contents[2]))"
      ],
      "metadata": {
        "colab": {
          "base_uri": "https://localhost:8080/"
        },
        "id": "IPmt3gh0Hrpt",
        "outputId": "8a9cd350-699c-4931-86a6-535f2bacadf9"
      },
      "execution_count": 123,
      "outputs": [
        {
          "output_type": "stream",
          "name": "stdout",
          "text": [
            "[883000.0, 16.0, 0.14, 0.0]\n"
          ]
        }
      ]
    },
    {
      "cell_type": "code",
      "source": [
        "def create_item_dict(values , headers):\n",
        "  result = {}\n",
        "  for value,header in zip(values,headers):\n",
        "    result[header]=value\n",
        "  return result\n",
        "\n",
        "values1 = parse_values(file3_contents[1])\n",
        "\n",
        "print(create_item_dict(values1,headers))\n",
        "\n",
        "values2 = parse_values(file3_contents[2])\n",
        "\n",
        "print(create_item_dict(values2,headers))"
      ],
      "metadata": {
        "id": "fMIkJyw0JJbY"
      },
      "execution_count": null,
      "outputs": []
    },
    {
      "cell_type": "code",
      "source": [
        "def read_csv(path):\n",
        "  result = []\n",
        "  with open(path,mode='r') as f:\n",
        "    f_contents = f.readlines()\n",
        "    header = parse_headers(f_contents[0])\n",
        "    for data_line in f_contents[1:]:\n",
        "      value = parse_values(data_line)\n",
        "      item_dict = create_item_dict(value,header)\n",
        "      result.append(item_dict)\n",
        "  return result"
      ],
      "metadata": {
        "id": "Yk4Doyz5MZHq"
      },
      "execution_count": 113,
      "outputs": []
    },
    {
      "cell_type": "code",
      "source": [
        "def parse_headers(header_line):\n",
        "    return header_line.strip().split(',')\n",
        "\n",
        "def parse_values(data_line):\n",
        "    values = []\n",
        "    for item in data_line.strip().split(','):\n",
        "        if item == '':\n",
        "            values.append(0.0)\n",
        "        else:\n",
        "            try:\n",
        "                values.append(float(item))\n",
        "            except ValueError:\n",
        "                values.append(item)\n",
        "    return values\n",
        "\n",
        "def create_item_dict(values, headers):\n",
        "    result = {}\n",
        "    for value, header in zip(values, headers):\n",
        "        result[header] = value\n",
        "    return result\n",
        "\n",
        "def read_csv(path):\n",
        "    result = []\n",
        "    # Open the file in read mode\n",
        "    with open(path, 'r') as f:\n",
        "        # Get a list of lines\n",
        "        lines = f.readlines()\n",
        "        # Parse the header\n",
        "        headers = parse_headers(lines[0])\n",
        "        # Loop over the remaining lines\n",
        "        for data_line in lines[1:]:\n",
        "            # Parse the values\n",
        "            values = parse_values(data_line)\n",
        "            # Create a dictionary using values & headers\n",
        "            item_dict = create_item_dict(values, headers)\n",
        "            # Add the dictionary to the result\n",
        "            result.append(item_dict)\n",
        "    return result"
      ],
      "metadata": {
        "id": "2nZW-IswrwRG"
      },
      "execution_count": 124,
      "outputs": []
    },
    {
      "cell_type": "code",
      "source": [
        "read_csv('./data/loans2.txt')"
      ],
      "metadata": {
        "colab": {
          "base_uri": "https://localhost:8080/"
        },
        "id": "b9idbGWxOGmR",
        "outputId": "24adc11f-7f0e-4479-c93b-0c8e81784989"
      },
      "execution_count": 125,
      "outputs": [
        {
          "output_type": "execute_result",
          "data": {
            "text/plain": [
              "[{'amount': 828400.0,\n",
              "  'duration': 120.0,\n",
              "  'rate': 0.11,\n",
              "  'down_payment': 100000.0},\n",
              " {'amount': 4633400.0, 'duration': 240.0, 'rate': 0.06, 'down_payment': 0.0},\n",
              " {'amount': 42900.0, 'duration': 90.0, 'rate': 0.08, 'down_payment': 8900.0},\n",
              " {'amount': 983000.0, 'duration': 16.0, 'rate': 0.14, 'down_payment': 0.0},\n",
              " {'amount': 15230.0, 'duration': 48.0, 'rate': 0.07, 'down_payment': 4300.0}]"
            ]
          },
          "metadata": {},
          "execution_count": 125
        }
      ]
    },
    {
      "cell_type": "code",
      "source": [
        "import math\n",
        "\n",
        "def loan_emi(amount, duration, rate, down_payment=0):\n",
        "    \"\"\"Calculates the equal montly installment (EMI) for a loan.\n",
        "    \n",
        "    Arguments:\n",
        "        amount - Total amount to be spent (loan + down payment)\n",
        "        duration - Duration of the loan (in months)\n",
        "        rate - Rate of interest (monthly)\n",
        "        down_payment (optional) - Optional intial payment (deducted from amount)\n",
        "    \"\"\"\n",
        "    loan_amount = amount - down_payment\n",
        "    try:\n",
        "        emi = loan_amount * rate * ((1+rate)**duration) / (((1+rate)**duration)-1)\n",
        "    except ZeroDivisionError:\n",
        "        emi = loan_amount / duration\n",
        "    emi = math.ceil(emi)\n",
        "    return emi"
      ],
      "metadata": {
        "id": "R2eRBtW5Pvge"
      },
      "execution_count": 126,
      "outputs": []
    },
    {
      "cell_type": "code",
      "source": [
        "loans2 = read_csv('./data/loans2.txt')\n",
        "print((loans2))\n",
        "\n",
        "for loan in loans2:\n",
        "    loan['emi'] = loan_emi(loan['amount'], \n",
        "                           loan['duration'], \n",
        "                           loan['rate']/12, # the CSV contains yearly rates\n",
        "                           loan['down_payment'])"
      ],
      "metadata": {
        "colab": {
          "base_uri": "https://localhost:8080/"
        },
        "id": "P1Iy9nh6QP9S",
        "outputId": "0c24c111-a213-48f6-ca44-f355a5278c26"
      },
      "execution_count": 128,
      "outputs": [
        {
          "output_type": "stream",
          "name": "stdout",
          "text": [
            "[{'amount': 828400.0, 'duration': 120.0, 'rate': 0.11, 'down_payment': 100000.0}, {'amount': 4633400.0, 'duration': 240.0, 'rate': 0.06, 'down_payment': 0.0}, {'amount': 42900.0, 'duration': 90.0, 'rate': 0.08, 'down_payment': 8900.0}, {'amount': 983000.0, 'duration': 16.0, 'rate': 0.14, 'down_payment': 0.0}, {'amount': 15230.0, 'duration': 48.0, 'rate': 0.07, 'down_payment': 4300.0}]\n"
          ]
        }
      ]
    },
    {
      "cell_type": "code",
      "source": [
        "def compute_emis(loans):\n",
        "  for loan in loans:\n",
        "    loan['emi'] = loan_emi(loan['amount'],\n",
        "                         loan['duration'],\n",
        "                         loan['rate'],\n",
        "                         loan['down_payment'])\n",
        "  return loans"
      ],
      "metadata": {
        "id": "xIWfDwApRXVa"
      },
      "execution_count": 134,
      "outputs": []
    },
    {
      "cell_type": "markdown",
      "source": [
        "## Writing to files\n",
        "\n",
        "Now that we have performed some processing on the data, it would be good to write the results back to a CSV file. We can create/open a file in `w` mode using `open` and write to it using the `.write` method. The string `format` method will come in handy here."
      ],
      "metadata": {
        "id": "2IsnRLT6TD_5"
      }
    },
    {
      "cell_type": "code",
      "source": [
        "loans2 = read_csv('./data/loans2.txt')\n",
        "\n",
        "compute_emis(loans2)\n",
        "\n",
        "with open('./data/loans2.txt',mode = 'w') as f:\n",
        "  for loan in loans2:\n",
        "    f.write('{},{},{},{},{}\\n'.format(\n",
        "        loan['amount'],\n",
        "        loan['duration'],\n",
        "        loan['rate'],\n",
        "        loan['down_payment'],\n",
        "        loan['emi']\n",
        "    ))"
      ],
      "metadata": {
        "id": "prsqLz0lTFE-"
      },
      "execution_count": 130,
      "outputs": []
    },
    {
      "cell_type": "code",
      "source": [
        "def write_csv(item,path):\n",
        "  with open(path , mode = 'w') as f:\n",
        "    if len(item)==0:\n",
        "      return\n",
        "    \n",
        "    headers = list(item[0].keys())\n",
        "    f.write(','.join(headers) + '\\n')\n",
        "\n",
        "    for item in item:\n",
        "      values = []\n",
        "      for header in headers:\n",
        "        values.append(str(item.get(header,\"\")))\n",
        "      f.write(','.join(values) + \"\\n\")\n"
      ],
      "metadata": {
        "id": "RB3mPaVSVQEu"
      },
      "execution_count": 144,
      "outputs": []
    },
    {
      "cell_type": "code",
      "source": [
        "loans3= read_csv('./data/loans3.txt')\n",
        "print(loans3)\n",
        "\n",
        "print(compute_emis(loans3))"
      ],
      "metadata": {
        "colab": {
          "base_uri": "https://localhost:8080/"
        },
        "id": "jgvvPQ32h95V",
        "outputId": "427f52dd-db08-4573-dc8b-6d3be7cf532d"
      },
      "execution_count": 135,
      "outputs": [
        {
          "output_type": "stream",
          "name": "stdout",
          "text": [
            "[{'amount': 45230.0, 'duration': 48.0, 'rate': 0.07, 'down_payment': 4300.0}, {'amount': 883000.0, 'duration': 16.0, 'rate': 0.14, 'down_payment': 0.0}, {'amount': 100000.0, 'duration': 12.0, 'rate': 0.1, 'down_payment': 0.0}, {'amount': 728400.0, 'duration': 120.0, 'rate': 0.12, 'down_payment': 100000.0}, {'amount': 3637400.0, 'duration': 240.0, 'rate': 0.06, 'down_payment': 0.0}, {'amount': 82900.0, 'duration': 90.0, 'rate': 0.07, 'down_payment': 8900.0}, {'amount': 316000.0, 'duration': 16.0, 'rate': 0.13, 'down_payment': 0.0}, {'amount': 15230.0, 'duration': 48.0, 'rate': 0.08, 'down_payment': 4300.0}, {'amount': 991360.0, 'duration': 99.0, 'rate': 0.08, 'down_payment': 0.0}, {'amount': 323000.0, 'duration': 27.0, 'rate': 0.09, 'down_payment': 4720010000.0}, {'amount': 528400.0, 'duration': 120.0, 'rate': 0.11, 'down_payment': 100000.0}, {'amount': 8633400.0, 'duration': 240.0, 'rate': 0.06, 'down_payment': 0.0}, {'amount': 12900.0, 'duration': 90.0, 'rate': 0.08, 'down_payment': 8900.0}]\n",
            "[{'amount': 45230.0, 'duration': 48.0, 'rate': 0.07, 'down_payment': 4300.0, 'emi': 2981}, {'amount': 883000.0, 'duration': 16.0, 'rate': 0.14, 'down_payment': 0.0, 'emi': 140941}, {'amount': 100000.0, 'duration': 12.0, 'rate': 0.1, 'down_payment': 0.0, 'emi': 14677}, {'amount': 728400.0, 'duration': 120.0, 'rate': 0.12, 'down_payment': 100000.0, 'emi': 75409}, {'amount': 3637400.0, 'duration': 240.0, 'rate': 0.06, 'down_payment': 0.0, 'emi': 218245}, {'amount': 82900.0, 'duration': 90.0, 'rate': 0.07, 'down_payment': 8900.0, 'emi': 5192}, {'amount': 316000.0, 'duration': 16.0, 'rate': 0.13, 'down_payment': 0.0, 'emi': 47851}, {'amount': 15230.0, 'duration': 48.0, 'rate': 0.08, 'down_payment': 4300.0, 'emi': 897}, {'amount': 991360.0, 'duration': 99.0, 'rate': 0.08, 'down_payment': 0.0, 'emi': 79348}, {'amount': 323000.0, 'duration': 27.0, 'rate': 0.09, 'down_payment': 4720010000.0, 'emi': -470717536}, {'amount': 528400.0, 'duration': 120.0, 'rate': 0.11, 'down_payment': 100000.0, 'emi': 47125}, {'amount': 8633400.0, 'duration': 240.0, 'rate': 0.06, 'down_payment': 0.0, 'emi': 518005}, {'amount': 12900.0, 'duration': 90.0, 'rate': 0.08, 'down_payment': 8900.0, 'emi': 321}]\n"
          ]
        }
      ]
    },
    {
      "cell_type": "code",
      "source": [
        "write_csv(loans3,'./data/emis3.txt')"
      ],
      "metadata": {
        "id": "U1MZPtmyuoy1"
      },
      "execution_count": 145,
      "outputs": []
    },
    {
      "cell_type": "code",
      "source": [
        "with open('./data/emis3.txt',mode='r') as f:\n",
        "  print(f.read())"
      ],
      "metadata": {
        "id": "f0ndHeC3vW7Y",
        "outputId": "56cab833-0a56-47a4-e37f-53fd7cd2cfe8",
        "colab": {
          "base_uri": "https://localhost:8080/"
        }
      },
      "execution_count": 146,
      "outputs": [
        {
          "output_type": "stream",
          "name": "stdout",
          "text": [
            "amount,duration,rate,down_payment,emi\n",
            "45230.0,48.0,0.07,4300.0,2981\n",
            "883000.0,16.0,0.14,0.0,140941\n",
            "100000.0,12.0,0.1,0.0,14677\n",
            "728400.0,120.0,0.12,100000.0,75409\n",
            "3637400.0,240.0,0.06,0.0,218245\n",
            "82900.0,90.0,0.07,8900.0,5192\n",
            "316000.0,16.0,0.13,0.0,47851\n",
            "15230.0,48.0,0.08,4300.0,897\n",
            "991360.0,99.0,0.08,0.0,79348\n",
            "323000.0,27.0,0.09,4720010000.0,-470717536\n",
            "528400.0,120.0,0.11,100000.0,47125\n",
            "8633400.0,240.0,0.06,0.0,518005\n",
            "12900.0,90.0,0.08,8900.0,321\n",
            "\n"
          ]
        }
      ]
    }
  ],
  "metadata": {
    "colab": {
      "name": "Welcome To Colaboratory",
      "toc_visible": true,
      "provenance": [],
      "include_colab_link": true
    },
    "kernelspec": {
      "display_name": "Python 3",
      "name": "python3"
    }
  },
  "nbformat": 4,
  "nbformat_minor": 0
}